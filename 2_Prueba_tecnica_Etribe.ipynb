{
  "nbformat": 4,
  "nbformat_minor": 0,
  "metadata": {
    "colab": {
      "provenance": [],
      "authorship_tag": "ABX9TyMuCAxQ10tFqGHr06Ed3Fqp",
      "include_colab_link": true
    },
    "kernelspec": {
      "name": "python3",
      "display_name": "Python 3"
    },
    "language_info": {
      "name": "python"
    }
  },
  "cells": [
    {
      "cell_type": "markdown",
      "metadata": {
        "id": "view-in-github",
        "colab_type": "text"
      },
      "source": [
        "<a href=\"https://colab.research.google.com/github/FlorDGM13/tecnico/blob/main/2_Prueba_tecnica_Etribe.ipynb\" target=\"_parent\"><img src=\"https://colab.research.google.com/assets/colab-badge.svg\" alt=\"Open In Colab\"/></a>"
      ]
    },
    {
      "cell_type": "markdown",
      "source": [
        "# 1.Cargar archivo y explorar estructura"
      ],
      "metadata": {
        "id": "_uYqTZIRP-Fy"
      }
    },
    {
      "cell_type": "code",
      "execution_count": null,
      "metadata": {
        "id": "VxygBvtbP2yY"
      },
      "outputs": [],
      "source": [
        "# 1. Importar librerías necesarias\n",
        "import pandas as pd\n",
        "import numpy as np\n",
        "\n",
        "# 2. Leer todas las hojas del archivo Excel\n",
        "archivo = \"PRUEBA_TECNICA_ETRIBE.xlsx\"\n",
        "excel_file = pd.ExcelFile(archivo)\n",
        "df_compras = excel_file.parse('COMPRAS')\n",
        "df_ventas = excel_file.parse('VENTAS')\n"
      ]
    },
    {
      "cell_type": "markdown",
      "source": [
        "# 2. VALIDACION DE DATOS"
      ],
      "metadata": {
        "id": "Uz8e86HwSh9P"
      }
    },
    {
      "cell_type": "code",
      "source": [
        "# Función para validar los DF\n",
        "def validar_df(df, nombre):\n",
        "    print(f\"\\n--- Validación para: {nombre} ---\")\n",
        "\n",
        "    df_clean = df.copy()\n",
        "\n",
        "    # Validar FECHA_DE_CIERRE\n",
        "    df_clean['FECHA_DE_CIERRE'] = pd.to_datetime(df_clean['FECHA_DE_CIERRE'], errors='coerce')\n",
        "    fechas_invalidas = df_clean['FECHA_DE_CIERRE'].isna().sum()\n",
        "    print(f\"Fechas inválidas encontradas: {fechas_invalidas}\")\n",
        "\n",
        "    # Redondear montos\n",
        "    df_clean['PRECIO'] = df_clean['PRECIO'].round(2)\n",
        "    df_clean['COSTE_TOTAL'] = df_clean['COSTE_TOTAL'].round(2)\n",
        "\n",
        "    # Validar cálculo de COSTE_TOTAL\n",
        "    df_clean['COSTE_TOTAL_CALCULADO'] = (df_clean['CANTIDAD'] * df_clean['PRECIO']).round(2)\n",
        "    df_clean['COSTE_CORRECTO'] = np.isclose(df_clean['COSTE_TOTAL'], df_clean['COSTE_TOTAL_CALCULADO'])\n",
        "\n",
        "    # Mostrar errores\n",
        "    errores = df_clean[~df_clean['COSTE_CORRECTO']]\n",
        "    print(f\"Registros con error en COSTE_TOTAL: {errores.shape[0]}\")\n",
        "\n",
        "    return df_clean, errores\n",
        "\n",
        "# Ejecutar por separado\n",
        "df_compras_clean, errores_compras = validar_df(df_compras, \"COMPRAS\")\n",
        "df_ventas_clean, errores_ventas = validar_df(df_ventas, \"VENTAS\")\n",
        "\n",
        "# Mostrar los errores si los hay\n",
        "if not errores_compras.empty:\n",
        "    print(\"\\nErrores en COMPRAS:\")\n",
        "    print(errores_compras.to_string(index=False))\n",
        "\n",
        "if not errores_ventas.empty:\n",
        "    print(\"\\nErrores en VENTAS:\")\n",
        "    print(errores_ventas.to_string(index=False))\n"
      ],
      "metadata": {
        "colab": {
          "base_uri": "https://localhost:8080/"
        },
        "id": "S5Xqjjv00RUV",
        "outputId": "d9dc146e-e750-493a-b357-9552792762c1"
      },
      "execution_count": null,
      "outputs": [
        {
          "output_type": "stream",
          "name": "stdout",
          "text": [
            "\n",
            "--- Validación para: COMPRAS ---\n",
            "Fechas inválidas encontradas: 0\n",
            "Registros con error en COSTE_TOTAL: 0\n",
            "\n",
            "--- Validación para: VENTAS ---\n",
            "Fechas inválidas encontradas: 0\n",
            "Registros con error en COSTE_TOTAL: 0\n"
          ]
        }
      ]
    },
    {
      "cell_type": "code",
      "source": [
        "#Calcular el precio promedio por año\n",
        "\n",
        "\n",
        "df_ventas_clean['ANO'] = pd.to_numeric(df_ventas_clean['ANO'], errors='coerce')\n",
        "df_compras_clean['ANO'] = pd.to_numeric(df_compras_clean['ANO'], errors='coerce')\n",
        "\n",
        "# Calcular precio promedio\n",
        "precio_promedio_ventas = df_ventas_clean.groupby('ANO')['PRECIO'].mean().round(2)\n",
        "precio_promedio_compras = df_compras_clean.groupby('ANO')['PRECIO'].mean().round(2)\n",
        "\n",
        "print(\"\\n Precio promedio por AÑO de entrega - VENTAS:\")\n",
        "print(precio_promedio_ventas)\n",
        "\n",
        "print(\"\\n Precio promedio por AÑO de entrega - COMPRAS:\")\n",
        "print(precio_promedio_compras)\n",
        "\n",
        "\n",
        "\n",
        "#Calcular el total de piezas vendidas y compradas por año\n",
        "\n",
        "piezas_vendidas_por_ano = df_ventas_clean.groupby('ANO')['CANTIDAD'].sum()\n",
        "piezas_compradas_por_ano = df_compras_clean.groupby('ANO')['CANTIDAD'].sum()\n",
        "\n",
        "print(\"\\n Total de piezas VENDIDAS por AÑO de entrega:\")\n",
        "print(piezas_vendidas_por_ano)\n",
        "\n",
        "print(\"\\n Total de piezas COMPRADAS por AÑO de entrega:\")\n",
        "print(piezas_compradas_por_ano)\n"
      ],
      "metadata": {
        "colab": {
          "base_uri": "https://localhost:8080/"
        },
        "id": "-Ss_ofo1UaEP",
        "outputId": "0ee7aaf5-55e0-4819-ea60-caf6ccea888b"
      },
      "execution_count": null,
      "outputs": [
        {
          "output_type": "stream",
          "name": "stdout",
          "text": [
            "\n",
            " Precio promedio por AÑO de entrega - VENTAS:\n",
            "ANO\n",
            "2025    11.47\n",
            "2026    10.69\n",
            "2027     9.42\n",
            "2028    11.66\n",
            "2029    11.89\n",
            "2030    10.07\n",
            "Name: PRECIO, dtype: float64\n",
            "\n",
            " Precio promedio por AÑO de entrega - COMPRAS:\n",
            "ANO\n",
            "2025    20.63\n",
            "2026    17.47\n",
            "2027    23.22\n",
            "2028    15.94\n",
            "2029    31.88\n",
            "2030    44.87\n",
            "Name: PRECIO, dtype: float64\n",
            "\n",
            " Total de piezas VENDIDAS por AÑO de entrega:\n",
            "ANO\n",
            "2025    1950\n",
            "2026     140\n",
            "2027      60\n",
            "2028     140\n",
            "2029     100\n",
            "2030     100\n",
            "Name: CANTIDAD, dtype: int64\n",
            "\n",
            " Total de piezas COMPRADAS por AÑO de entrega:\n",
            "ANO\n",
            "2025    320\n",
            "2026     18\n",
            "2027      8\n",
            "2028     46\n",
            "2029     19\n",
            "2030     22\n",
            "Name: CANTIDAD, dtype: int64\n"
          ]
        }
      ]
    },
    {
      "cell_type": "markdown",
      "source": [
        "# 3. EXPORTACION"
      ],
      "metadata": {
        "id": "2nARKwcsk0bj"
      }
    }
  ]
}